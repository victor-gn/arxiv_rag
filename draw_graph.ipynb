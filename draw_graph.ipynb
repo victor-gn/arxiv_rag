{
 "cells": [
  {
   "cell_type": "code",
   "execution_count": null,
   "id": "d1590197",
   "metadata": {},
   "outputs": [],
   "source": [
    "from IPython.display import Image, display"
   ]
  },
  {
   "cell_type": "code",
   "execution_count": null,
   "id": "d4ddbb23",
   "metadata": {},
   "outputs": [],
   "source": [
    "from src.ingest_pdf import rag_pipeline\n",
    "from src.rag_qa import rag_qa_pipeline"
   ]
  },
  {
   "cell_type": "code",
   "execution_count": null,
   "id": "1f744159",
   "metadata": {},
   "outputs": [],
   "source": [
    "display(\n",
    "    Image(rag_pipeline.get_graph().draw_mermaid_png(max_retries=5, retry_delay=2.0))\n",
    ")"
   ]
  },
  {
   "cell_type": "code",
   "execution_count": null,
   "id": "3a569ccb",
   "metadata": {},
   "outputs": [],
   "source": [
    "display(\n",
    "    Image(rag_qa_pipeline.get_graph().draw_mermaid_png(max_retries=5, retry_delay=2.0))\n",
    ")"
   ]
  }
 ],
 "metadata": {
  "kernelspec": {
   "display_name": ".venv",
   "language": "python",
   "name": "python3"
  },
  "language_info": {
   "codemirror_mode": {
    "name": "ipython",
    "version": 3
   },
   "file_extension": ".py",
   "mimetype": "text/x-python",
   "name": "python",
   "nbconvert_exporter": "python",
   "pygments_lexer": "ipython3",
   "version": "3.13.1"
  }
 },
 "nbformat": 4,
 "nbformat_minor": 5
}
